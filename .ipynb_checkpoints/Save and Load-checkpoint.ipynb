{
 "cells": [
  {
   "cell_type": "markdown",
   "metadata": {},
   "source": [
    "Objective: Saving to and Loading from a csv file\n",
    "\n",
    "Two methods are used to obtain the objective,\n",
    "    Python csv library and Pandas\n",
    "\n",
    "For each method, two different types of data will be used,\n",
    "    List data and Dictionary data"
   ]
  },
  {
   "cell_type": "code",
   "execution_count": 4,
   "metadata": {},
   "outputs": [
    {
     "name": "stdout",
     "output_type": "stream",
     "text": [
      "[[1, 902, 'string1', True, datetime.date(2018, 1, 2)], [2, 924, 'string2', False, datetime.date(2018, 1, 3)], [3, 561, 'string3', True, datetime.date(2018, 1, 4)], [4, 165, 'string4', False, datetime.date(2018, 1, 5)], [5, 956, 'string5', True, datetime.date(2018, 1, 6)], [6, 85, 'string6', False, datetime.date(2018, 1, 7)], [7, 147, 'string7', True, datetime.date(2018, 1, 8)], [8, 864, 'string8', False, datetime.date(2018, 1, 9)], [9, 517, 'string9', True, datetime.date(2018, 1, 10)], [10, 677, 'string10', False, datetime.date(2018, 1, 11)]]\n"
     ]
    }
   ],
   "source": [
    "# Creating two different types of data\n",
    "# Data type 1: List data\n",
    "# To include index, number, string, boolean, date\n",
    "import random\n",
    "import datetime\n",
    "rows = 10\n",
    "index = 1\n",
    "data = []\n",
    "for i in range(rows):\n",
    "    data.append([index, random.randint(1, 1000),\n",
    "                'string' + str(index), (i%2) == 0,\n",
    "                datetime.date(year = 2018, month = 1, day = 1) +\n",
    "                datetime.timedelta(days = index)])\n",
    "    index = index + 1\n",
    "print(data)"
   ]
  },
  {
   "cell_type": "code",
   "execution_count": 5,
   "metadata": {},
   "outputs": [
    {
     "name": "stdout",
     "output_type": "stream",
     "text": [
      "{1: {'number': 561, 'string': 'string1', 'boolean': True, 'date': datetime.date(2018, 1, 2)}, 2: {'number': 111, 'string': 'string2', 'boolean': False, 'date': datetime.date(2018, 1, 3)}, 3: {'number': 882, 'string': 'string3', 'boolean': True, 'date': datetime.date(2018, 1, 4)}, 4: {'number': 217, 'string': 'string4', 'boolean': False, 'date': datetime.date(2018, 1, 5)}, 5: {'number': 191, 'string': 'string5', 'boolean': True, 'date': datetime.date(2018, 1, 6)}, 6: {'number': 432, 'string': 'string6', 'boolean': False, 'date': datetime.date(2018, 1, 7)}, 7: {'number': 569, 'string': 'string7', 'boolean': True, 'date': datetime.date(2018, 1, 8)}, 8: {'number': 361, 'string': 'string8', 'boolean': False, 'date': datetime.date(2018, 1, 9)}, 9: {'number': 236, 'string': 'string9', 'boolean': True, 'date': datetime.date(2018, 1, 10)}, 10: {'number': 935, 'string': 'string10', 'boolean': False, 'date': datetime.date(2018, 1, 11)}}\n"
     ]
    }
   ],
   "source": [
    "# Creating two different types of data\n",
    "# Data type 2: Dictionary data\n",
    "# To include index, number, string, boolean, date\n",
    "rows = 10\n",
    "index = 1\n",
    "data2 = {}\n",
    "for i in range(rows):\n",
    "    data2[index] = {'number': random.randint(1, 1000),\n",
    "                    'string': 'string' + str(index),\n",
    "                    'boolean':(i%2) == 0,\n",
    "                    'date': datetime.date(year = 2018,\n",
    "                                          month = 1,\n",
    "                                          day = 1) +\n",
    "                    datetime.timedelta(days = index)}\n",
    "    index = index + 1\n",
    "print(data2)"
   ]
  },
  {
   "cell_type": "code",
   "execution_count": 6,
   "metadata": {},
   "outputs": [],
   "source": [
    "# Saving to and Loading from a csv file\n",
    "# Using Python csv library\n",
    "# List data\n",
    "import csv\n",
    "\n",
    "with open('test_file_1a.csv', mode = 'w', newline = '') as csv_save:\n",
    "    writer = csv.writer(csv_save)\n",
    "    for row in data:\n",
    "        writer.writerow(row)\n",
    "        \n",
    "# newline = '' requried to prevent blank lines in between rows"
   ]
  },
  {
   "cell_type": "code",
   "execution_count": 7,
   "metadata": {},
   "outputs": [
    {
     "name": "stdout",
     "output_type": "stream",
     "text": [
      "['1', '902', 'string1', 'True', '2018-01-02']\n",
      "['2', '924', 'string2', 'False', '2018-01-03']\n",
      "['3', '561', 'string3', 'True', '2018-01-04']\n",
      "['4', '165', 'string4', 'False', '2018-01-05']\n",
      "['5', '956', 'string5', 'True', '2018-01-06']\n",
      "['6', '85', 'string6', 'False', '2018-01-07']\n",
      "['7', '147', 'string7', 'True', '2018-01-08']\n",
      "['8', '864', 'string8', 'False', '2018-01-09']\n",
      "['9', '517', 'string9', 'True', '2018-01-10']\n",
      "['10', '677', 'string10', 'False', '2018-01-11']\n"
     ]
    }
   ],
   "source": [
    "# Loading from saved csv file\n",
    "# Using Python csv library\n",
    "with open('test_file_1a.csv', mode = 'r') as csv_load:\n",
    "    reader = csv.reader(csv_load)\n",
    "    for row in reader:\n",
    "        print(row)"
   ]
  },
  {
   "cell_type": "code",
   "execution_count": 8,
   "metadata": {},
   "outputs": [],
   "source": [
    "# Saving to and Loading from a csv file\n",
    "# Using Python csv library\n",
    "# Dictionary data\n",
    "with open('test_file_1b.csv', mode = 'w', newline = '') as csv_save:\n",
    "    fieldnames = ['index', 'number', 'string', 'boolean', 'date']\n",
    "    writer = csv.DictWriter(csv_save, fieldnames = fieldnames)\n",
    "    writer.writeheader()\n",
    "    rows = len(data2)\n",
    "    for row in range(1, rows+1):\n",
    "\n",
    "        rowdata = data2[row]\n",
    "        writer.writerow({'index': row,\n",
    "                         'number': rowdata['number'],\n",
    "                         'string': rowdata['string'],\n",
    "                         'boolean': rowdata['boolean'],\n",
    "                         'date': rowdata['date']})"
   ]
  },
  {
   "cell_type": "code",
   "execution_count": 9,
   "metadata": {},
   "outputs": [
    {
     "name": "stdout",
     "output_type": "stream",
     "text": [
      "['index', 'number', 'string', 'boolean', 'date']\n",
      "['1', '561', 'string1', 'True', '2018-01-02']\n",
      "['2', '111', 'string2', 'False', '2018-01-03']\n",
      "['3', '882', 'string3', 'True', '2018-01-04']\n",
      "['4', '217', 'string4', 'False', '2018-01-05']\n",
      "['5', '191', 'string5', 'True', '2018-01-06']\n",
      "['6', '432', 'string6', 'False', '2018-01-07']\n",
      "['7', '569', 'string7', 'True', '2018-01-08']\n",
      "['8', '361', 'string8', 'False', '2018-01-09']\n",
      "['9', '236', 'string9', 'True', '2018-01-10']\n",
      "['10', '935', 'string10', 'False', '2018-01-11']\n"
     ]
    }
   ],
   "source": [
    "# Loading from saved csv file\n",
    "# Using Python csv library\n",
    "with open('test_file_1b.csv', mode = 'r') as csv_load:\n",
    "    reader = csv.DictReader(csv_load)\n",
    "    is_header = True\n",
    "    fieldnames = []\n",
    "    for row in reader:\n",
    "        if is_header:\n",
    "            for element in row:\n",
    "                fieldnames.append(element)\n",
    "            print(fieldnames)\n",
    "            is_header = False\n",
    "        rowdata = []\n",
    "        for field in fieldnames:\n",
    "            rowdata.append(row[field])\n",
    "        print(rowdata)"
   ]
  },
  {
   "cell_type": "code",
   "execution_count": 10,
   "metadata": {},
   "outputs": [],
   "source": [
    "# Saving to and Loading from a csv file\n",
    "# Using Pandas\n",
    "# List data\n",
    "import pandas as pd\n",
    "df = pd.DataFrame(data,\n",
    "                  columns = ['index', 'number',\n",
    "                             'string', 'boolean',\n",
    "                             'date'])\n",
    "df.set_index('index', inplace = True)\n",
    "df.to_csv('test_file_2a.csv')"
   ]
  },
  {
   "cell_type": "code",
   "execution_count": 11,
   "metadata": {},
   "outputs": [
    {
     "name": "stdout",
     "output_type": "stream",
     "text": [
      "       number    string  boolean       date\n",
      "index                                      \n",
      "1         902   string1     True 2018-01-02\n",
      "2         924   string2    False 2018-01-03\n",
      "3         561   string3     True 2018-01-04\n",
      "4         165   string4    False 2018-01-05\n",
      "5         956   string5     True 2018-01-06\n",
      "6          85   string6    False 2018-01-07\n",
      "7         147   string7     True 2018-01-08\n",
      "8         864   string8    False 2018-01-09\n",
      "9         517   string9     True 2018-01-10\n",
      "10        677  string10    False 2018-01-11\n"
     ]
    }
   ],
   "source": [
    "# Loading from saved csv file\n",
    "# Using Pandas\n",
    "df = pd.read_csv('test_file_2a.csv',\n",
    "                 index_col = 'index',\n",
    "                 parse_dates = ['date'],\n",
    "                 header = 0)\n",
    "print(df)"
   ]
  },
  {
   "cell_type": "code",
   "execution_count": 12,
   "metadata": {},
   "outputs": [],
   "source": [
    "# Saving to and Loading from a csv file\n",
    "# Using Pandas\n",
    "# Dictionary data\n",
    "df = pd.DataFrame(data2).T\n",
    "df.reset_index(level=0, inplace=False)\n",
    "df.index.name = 'index'\n",
    "columns = ['number', 'string', 'boolean', 'date']\n",
    "df = df[columns]\n",
    "df.to_csv('test_file_2b.csv')"
   ]
  },
  {
   "cell_type": "code",
   "execution_count": 13,
   "metadata": {},
   "outputs": [
    {
     "name": "stdout",
     "output_type": "stream",
     "text": [
      "       number    string  boolean       date\n",
      "index                                      \n",
      "1         561   string1     True 2018-01-02\n",
      "2         111   string2    False 2018-01-03\n",
      "3         882   string3     True 2018-01-04\n",
      "4         217   string4    False 2018-01-05\n",
      "5         191   string5     True 2018-01-06\n",
      "6         432   string6    False 2018-01-07\n",
      "7         569   string7     True 2018-01-08\n",
      "8         361   string8    False 2018-01-09\n",
      "9         236   string9     True 2018-01-10\n",
      "10        935  string10    False 2018-01-11\n"
     ]
    }
   ],
   "source": [
    "# Loading from saved csv file\n",
    "# Using Pandas\n",
    "df = pd.read_csv('test_file_2b.csv',\n",
    "                 index_col = 'index',\n",
    "                 parse_dates = ['date'],\n",
    "                 header = 0)\n",
    "print(df)"
   ]
  },
  {
   "cell_type": "code",
   "execution_count": null,
   "metadata": {},
   "outputs": [],
   "source": []
  },
  {
   "cell_type": "markdown",
   "metadata": {},
   "source": [
    "Objective: Saving to and Loading from a text file,\n",
    "Import data from .txt, .csv, Excel, Stata, SAS, Matlab, SQLite PostgreSQL\n",
    "\n",
    "methods are used to obtain the objective,\n",
    "    \n",
    "For each method, two different types of data will be used,\n",
    "    List data and Dictionary data"
   ]
  },
  {
   "cell_type": "code",
   "execution_count": null,
   "metadata": {},
   "outputs": [],
   "source": []
  }
 ],
 "metadata": {
  "kernelspec": {
   "display_name": "Python 3",
   "language": "python",
   "name": "python3"
  },
  "language_info": {
   "codemirror_mode": {
    "name": "ipython",
    "version": 3
   },
   "file_extension": ".py",
   "mimetype": "text/x-python",
   "name": "python",
   "nbconvert_exporter": "python",
   "pygments_lexer": "ipython3",
   "version": "3.7.3"
  }
 },
 "nbformat": 4,
 "nbformat_minor": 2
}
