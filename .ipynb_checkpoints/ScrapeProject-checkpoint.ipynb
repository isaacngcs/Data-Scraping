{
 "cells": [
  {
   "cell_type": "code",
   "execution_count": null,
   "metadata": {},
   "outputs": [],
   "source": [
    "class Project:\n",
    "    \n",
    "    def __init__(self, name, internal = set([]), prescraped = set([]), external = set([])):\n",
    "        self.name = name\n",
    "        self.internal = internal\n",
    "        self.prescraped = prescraped\n",
    "        self.external = external\n",
    "    \n",
    "    def get_name(self):\n",
    "        return self.name\n",
    "    \n",
    "    def get_internal(self):\n",
    "        return self.internal\n",
    "    \n",
    "    def set_internal(self, internal):\n",
    "        if not isinstance(internal, set):\n",
    "            raise TypeError(\"internal must be of type \\\"set\\\"\")\n",
    "        self.internal = internal\n",
    "    \n",
    "    def get_prescraped(self):\n",
    "        return self.prescraped\n",
    "    \n",
    "    def set_prescraped(self, prescraped):\n",
    "        if not isinstance(prescraped, set):\n",
    "            raise TypeError(\"prescraped must be of type \\\"set\\\"\")\n",
    "        self.prescraped = prescraped\n",
    "    \n",
    "    def get_external(self):\n",
    "        return self.external\n",
    "    \n",
    "    def set_external(self, external):\n",
    "        if not isinstance(external, set):\n",
    "            raise TypeError(\"external must be of type \\\"set\\\"\")\n",
    "        self.external = internal"
   ]
  },
  {
   "cell_type": "code",
   "execution_count": null,
   "metadata": {},
   "outputs": [],
   "source": []
  }
 ],
 "metadata": {
  "kernelspec": {
   "display_name": "Python 3",
   "language": "python",
   "name": "python3"
  },
  "language_info": {
   "codemirror_mode": {
    "name": "ipython",
    "version": 3
   },
   "file_extension": ".py",
   "mimetype": "text/x-python",
   "name": "python",
   "nbconvert_exporter": "python",
   "pygments_lexer": "ipython3",
   "version": "3.7.3"
  }
 },
 "nbformat": 4,
 "nbformat_minor": 2
}
