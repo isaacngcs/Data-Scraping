{
 "cells": [
  {
   "cell_type": "code",
   "execution_count": 116,
   "metadata": {
    "scrolled": true
   },
   "outputs": [
    {
     "name": "stdout",
     "output_type": "stream",
     "text": [
      "Requirement already satisfied: requests in c:\\programdata\\anaconda3\\lib\\site-packages (2.22.0)\n",
      "Requirement already satisfied: idna<2.9,>=2.5 in c:\\programdata\\anaconda3\\lib\\site-packages (from requests) (2.8)\n",
      "Requirement already satisfied: certifi>=2017.4.17 in c:\\programdata\\anaconda3\\lib\\site-packages (from requests) (2019.6.16)\n",
      "Requirement already satisfied: urllib3!=1.25.0,!=1.25.1,<1.26,>=1.21.1 in c:\\programdata\\anaconda3\\lib\\site-packages (from requests) (1.24.2)\n",
      "Requirement already satisfied: chardet<3.1.0,>=3.0.2 in c:\\programdata\\anaconda3\\lib\\site-packages (from requests) (3.0.4)\n"
     ]
    }
   ],
   "source": [
    "# Install Requests\n",
    "# Library requried to get retrieve data from websites\n",
    "!pip install requests"
   ]
  },
  {
   "cell_type": "code",
   "execution_count": 6,
   "metadata": {},
   "outputs": [
    {
     "name": "stdout",
     "output_type": "stream",
     "text": [
      "Requirement already satisfied: beautifulsoup4 in c:\\programdata\\anaconda3\\lib\\site-packages (4.7.1)\n",
      "Requirement already satisfied: soupsieve>=1.2 in c:\\programdata\\anaconda3\\lib\\site-packages (from beautifulsoup4) (1.8)\n"
     ]
    }
   ],
   "source": [
    "# Install BeautifulSoup\n",
    "# HTML parsing library to help with data extraction\n",
    "!pip install beautifulsoup4"
   ]
  },
  {
   "cell_type": "code",
   "execution_count": 120,
   "metadata": {},
   "outputs": [],
   "source": [
    "# Import libraries\n",
    "from bs4 import BeautifulSoup\n",
    "import requests\n",
    "import re"
   ]
  },
  {
   "cell_type": "code",
   "execution_count": 121,
   "metadata": {},
   "outputs": [],
   "source": [
    "# Add User-Agent parameter\n",
    "headers = {'User-Agent': 'Mozilla/5.0 (Macintosh; Intel Mac OS X 10_13_6) AppleWebKit/537.36 (KHTML, like Gecko) Chrome/70.0.3538.77 Safari/537.36'}"
   ]
  },
  {
   "cell_type": "code",
   "execution_count": 122,
   "metadata": {},
   "outputs": [],
   "source": [
    "# Retrieve all links from a given webpage\n",
    "# Separate links into internal and external links\n",
    "def getlinks(url, siteurl):\n",
    "    \n",
    "    # Retrieve content from url\n",
    "    page_link = url\n",
    "    page_response = requests.get(page_link, headers=headers, timeout=5)\n",
    "    page_content = BeautifulSoup(page_response.content, \"html.parser\",\n",
    "                                 from_encoding=\"iso-8859-1\")\n",
    "    \n",
    "    # Create sets for internal and external links\n",
    "    internal = set([])\n",
    "    external = set([])\n",
    "    \n",
    "    # Retrieve links and sorts them into internal and external links\n",
    "    links = set([])\n",
    "    for unsorted_link in page_content.findAll(\n",
    "        'a', attrs={'href': re.compile(\"^http://\")}):\n",
    "        link = unsorted_link.get('href')\n",
    "        if link.startswith(siteurl):\n",
    "            internal.add(link)\n",
    "        else:\n",
    "            external.add(link)\n",
    "            \n",
    "    return internal, external"
   ]
  },
  {
   "cell_type": "code",
   "execution_count": null,
   "metadata": {},
   "outputs": [],
   "source": [
    "# Setting starting variables for sitecrawling\n",
    "# Given a siteurl, this bot aims to crawl through the site\n",
    "# and return all internal and external sites linked within\n",
    "# in two sets respectively\n",
    "\n",
    "# Initialise sets\n",
    "sites = set([])\n",
    "external_sites = set([])\n",
    "\n",
    "# Set the siteurl for crawling\n",
    "siteurl = 'http://cheersingapore.org/cas/'"
   ]
  },
  {
   "cell_type": "code",
   "execution_count": 132,
   "metadata": {
    "collapsed": true
   },
   "outputs": [
    {
     "name": "stdout",
     "output_type": "stream",
     "text": [
      "http://cheersingapore.org/cas/wp-content/uploads/2018/06/2018-China-Open-Guideline-Book0508.pdf\n",
      "http://cheersingapore.org/cas/wp-content/uploads/2018/02/CASNCC-2018-Information-Package-2-1.pdf\n",
      "http://cheersingapore.org/cas/2019/01/08/cas-national-cheerleading-championships-2019/\n",
      "http://cheersingapore.org/cas/2019/08/15/team-singapore-2020-tryouts-results/\n",
      "http://cheersingapore.org/cas/wp-content/uploads/2019/01/CASNCC-2019-Rule-Book-ICU-2017-2019.pdf\n",
      "http://cheersingapore.org/cas/2018/03/11/fundraising-team-singapore-2018-official-merchandise/#respond\n",
      "http://cheersingapore.org/cas/2017/08/21/mediacorp-cheerleading-competition-2017/\n",
      "http://cheersingapore.org/cas/courses/\n",
      "http://cheersingapore.org/cas/wp-content/uploads/2018/03/Team-Singapore-2018-Tee-Shirt-Merchandise-Order.doc\n",
      "http://cheersingapore.org/cas/category/national-team/national-team-2020/\n",
      "http://cheersingapore.org/cas/wp-content/uploads/2017/08/Cheer-Level-5-to-6.pdf\n",
      "http://cheersingapore.org/cas/category/national-team/national-team-2018/\n",
      "http://cheersingapore.org/cas/wp-content/uploads/2017/08/Cheer-Glossary.pdf\n",
      "http://cheersingapore.org/cas/technical/coaches/\n",
      "http://cheersingapore.org/cas/wp-content/uploads/2018/02/CASNCC-2018-Registration-Package.xlsx\n",
      "http://cheersingapore.org/cas/2018/02/05/cas-national-cheerleading-championships-2018/\n",
      "http://cheersingapore.org/cas/courses/coaches/\n",
      "http://cheersingapore.org/cas/technical/coaches/resources/\n",
      "http://cheersingapore.org/cas/technical/coaches/opportunities/\n",
      "http://cheersingapore.org/cas/technical/judges/opportunities/\n",
      "http://cheersingapore.org/cas/courses/judges/\n",
      "http://cheersingapore.org/cas/wp-content/uploads/2017/08/Partner-Group-Stunt-Division-Score-Sheet.pdf\n",
      "http://cheersingapore.org/cas/technical/rules-and-divisions/\n",
      "http://cheersingapore.org/cas/member-directory/\n",
      "http://cheersingapore.org/cas/national-team/national-team-2017-18/\n",
      "http://cheersingapore.org/cas/about/\n",
      "http://cheersingapore.org/cas/courses/public/\n",
      "http://cheersingapore.org/cas/events/competitions/\n",
      "http://cheersingapore.org/cas/member-directory/coaches/\n",
      "http://cheersingapore.org/cas/category/events/competitions/\n",
      "http://cheersingapore.org/cas/wp-content/uploads/2017/08/EDM-cheerleading.jpg\n",
      "http://cheersingapore.org/cas/wp-content/uploads/2018/04/2018-04-12-PHOTO-000370375936.jpg\n",
      "http://cheersingapore.org/cas/category/others/\n",
      "http://cheersingapore.org/cas/2018/04/13/team-xtreme-heading-to-southeast-asia-cheerleading-championships-2018/\n",
      "http://cheersingapore.org/cas/wp-content/uploads/2018/02/CASNCC-2018-Rule-Book_Combined.pdf\n",
      "http://cheersingapore.org/cas/about/milestones/\n",
      "http://cheersingapore.org/cas/technical/judges/accreditation-and-pathway/\n",
      "http://cheersingapore.org/cas/wp-content/uploads/2018/03/Shirt-Design.jpg\n",
      "http://cheersingapore.org/cas/2017/08/21/mediacorp-cheerleading-competition-2017/#respond\n",
      "http://cheersingapore.org/cas/2017/07/31/announcement-of-national-team-athletes-for-20172018/\n",
      "http://cheersingapore.org/cas/2017/01/08/cas-national-cheerleading-championships-2017/\n",
      "http://cheersingapore.org/cas/national-team/national-team-2013/\n",
      "http://cheersingapore.org/cas/2019/08/15/team-singapore-2020-tryouts-results/#respond\n",
      "http://cheersingapore.org/cas/2018/06/21/china-nanjing-cheerleading-open-2018/#respond\n",
      "http://cheersingapore.org/cas/wp-content/uploads/2017/08/Cheerleading-Competition-Release-Indemnity-Form-2017Aug21.pdf\n",
      "http://cheersingapore.org/cas/member-directory/judges/\n",
      "http://cheersingapore.org/cas/2018/03/11/fundraising-team-singapore-2018-official-merchandise/\n",
      "http://cheersingapore.org/cas/contact-us/\n",
      "http://cheersingapore.org/cas/author/casadmin/\n",
      "http://cheersingapore.org/cas/wp-content/uploads/2017/08/Registration-Package.xlsx\n",
      "http://cheersingapore.org/cas/2017/07/20/national-team-2018-tryouts/#respond\n",
      "http://cheersingapore.org/cas/wp-content/uploads/2017/08/Rule-Book_Updated-28-Aug-17.pdf\n",
      "http://cheersingapore.org/cas/wp-content/uploads/2017/08/Cheer-General-Safety-Rules.pdf\n",
      "http://cheersingapore.org/cas/technical/coaches/accreditation-and-pathway/\n",
      "http://cheersingapore.org/cas/events/\n",
      "http://cheersingapore.org/cas/2018/06/21/china-nanjing-cheerleading-open-2018/\n",
      "http://cheersingapore.org/cas/national-team/\n",
      "http://cheersingapore.org/cas/wp-content/uploads/2019/01/CASNCC-2019-Information-Package.pdf\n",
      "http://cheersingapore.org/cas/2019/01/08/cas-national-cheerleading-championships-2019/#respond\n",
      "http://cheersingapore.org/cas/courses/schools/\n",
      "http://cheersingapore.org/cas/2018/02/05/cas-national-cheerleading-championships-2018/#respond\n",
      "http://cheersingapore.org/cas/2017/11/29/coaching-opportunities-in-primary-schools/#respond\n",
      "http://cheersingapore.org/cas/2017/07/31/announcement-of-national-team-athletes-for-20172018/#respond\n",
      "http://cheersingapore.org/cas/technical/judges/resources/\n",
      "http://cheersingapore.org/cas/2017/11/29/coaching-opportunities-in-primary-schools/\n",
      "http://cheersingapore.org/cas/wp-content/uploads/2019/01/CASNCC-2019-Registration-Package.xlsx\n",
      "http://cheersingapore.org/cas/2017/07/20/national-team-2018-tryouts/\n",
      "http://cheersingapore.org/cas/events/others/\n",
      "http://cheersingapore.org/cas/wp-content/uploads/2018/06/CCA-2018-CO-Registration-forms0508.xlsx\n",
      "http://cheersingapore.org/cas/2018/04/13/team-xtreme-heading-to-southeast-asia-cheerleading-championships-2018/#respond\n",
      "http://cheersingapore.org/cas/about/corporate-information/\n",
      "http://cheersingapore.org/cas/page/2/\n",
      "http://cheersingapore.org/cas/technical/judges/\n",
      "http://cheersingapore.org/cas/technical/\n",
      "http://cheersingapore.org/cas/events/workshops/\n"
     ]
    },
    {
     "name": "stderr",
     "output_type": "stream",
     "text": [
      "Some characters could not be decoded, and were replaced with REPLACEMENT CHARACTER.\n",
      "Some characters could not be decoded, and were replaced with REPLACEMENT CHARACTER.\n",
      "Some characters could not be decoded, and were replaced with REPLACEMENT CHARACTER.\n",
      "Some characters could not be decoded, and were replaced with REPLACEMENT CHARACTER.\n",
      "Some characters could not be decoded, and were replaced with REPLACEMENT CHARACTER.\n",
      "Some characters could not be decoded, and were replaced with REPLACEMENT CHARACTER.\n",
      "Some characters could not be decoded, and were replaced with REPLACEMENT CHARACTER.\n",
      "Some characters could not be decoded, and were replaced with REPLACEMENT CHARACTER.\n",
      "Some characters could not be decoded, and were replaced with REPLACEMENT CHARACTER.\n",
      "Some characters could not be decoded, and were replaced with REPLACEMENT CHARACTER.\n",
      "Some characters could not be decoded, and were replaced with REPLACEMENT CHARACTER.\n",
      "Some characters could not be decoded, and were replaced with REPLACEMENT CHARACTER.\n",
      "Some characters could not be decoded, and were replaced with REPLACEMENT CHARACTER.\n",
      "Some characters could not be decoded, and were replaced with REPLACEMENT CHARACTER.\n",
      "Some characters could not be decoded, and were replaced with REPLACEMENT CHARACTER.\n",
      "Some characters could not be decoded, and were replaced with REPLACEMENT CHARACTER.\n",
      "Some characters could not be decoded, and were replaced with REPLACEMENT CHARACTER.\n",
      "Some characters could not be decoded, and were replaced with REPLACEMENT CHARACTER.\n",
      "Some characters could not be decoded, and were replaced with REPLACEMENT CHARACTER.\n"
     ]
    },
    {
     "name": "stdout",
     "output_type": "stream",
     "text": [
      "http://cheersingapore.org/cas/2016/10/07/584/\n",
      "http://cheersingapore.org/cas/wp-content/uploads/2013/07/CAS-Credentialing-Program-Coaching-Practical-Experience-Validation-Form.pdf\n",
      "http://cheersingapore.org/cas/category/events/competitions/page/2/\n",
      "http://cheersingapore.org/cas/2016/08/13/2016-asia-open-cheerleading-championship/\n",
      "http://cheersingapore.org/cas/2013/09/20/congratulations-team-singapore-2013/\n",
      "http://cheersingapore.org/cas/wp-content/uploads/2013/07/CAS-Coaching-Course-Information.pdf\n",
      "http://cheersingapore.org/cas/2013/07/26/new-look-for-our-website/\n",
      "http://cheersingapore.org/cas/wp-content/uploads/2017/11/DHL-Performance.mp4\n",
      "http://cheersingapore.org/cas/wp-content/uploads/2013/07/Registration-Form-CAS-Coach-Credentialing-Program-for-15-Jan-2017.pdf\n",
      "http://cheersingapore.org/cas/wp-content/uploads/2016/10/IMG_5918.jpg\n",
      "http://cheersingapore.org/cas/2016/09/19/important-announcements/\n",
      "http://cheersingapore.org/cas/2017/01/08/cas-national-cheerleading-championships-2017/#respond\n",
      "http://cheersingapore.org/cas/2015/06/04/2015-caribbean-cheerleading-international-open-championships/\n",
      "http://cheersingapore.org/cas/2017/06/22/national-team-201718-try-out/#respond\n",
      "http://cheersingapore.org/cas/wp-content/uploads/2017/01/CASNCC-2017-Information-Package.pdf\n",
      "http://cheersingapore.org/cas/2016/09/19/important-announcements/#respond\n",
      "http://cheersingapore.org/cas/2016/12/09/598/\n",
      "http://cheersingapore.org/cas/2017/03/29/casncc-2017-spectator-information/\n",
      "http://cheersingapore.org/cas/wp-content/uploads/2016/10/IMG_5623.jpg\n",
      "http://cheersingapore.org/cas/wp-content/uploads/2016/10/IMG_5919.jpg\n",
      "http://cheersingapore.org/cas/wp-content/uploads/2017/01/CASNCC-2017-Registration-Package.xlsx\n",
      "http://cheersingapore.org/cas/wp-content/uploads/2016/10/IMG_5917.jpg\n",
      "http://cheersingapore.org/cas/2017/07/05/republic-polytechnic-cheerleading-team-seeking-for-qualified-coach/#respond\n",
      "http://cheersingapore.org/cas/wp-content/uploads/2016/08/13909385_1150525035005340_2243593606835847284_o.jpg\n",
      "http://cheersingapore.org/cas/2017/07/05/republic-polytechnic-cheerleading-team-seeking-for-qualified-coach/\n",
      "http://cheersingapore.org/cas/wp-content/uploads/2013/09/1236860_10151640438744211_673880632_n.jpg\n",
      "http://cheersingapore.org/cas/page/3/\n",
      "http://cheersingapore.org/cas/\n",
      "http://cheersingapore.org/cas/2017/03/08/international-cheer-union-icu-cheer-judges-course/#respond\n",
      "http://cheersingapore.org/cas/2017/03/29/casncc-2017-spectator-information/#respond\n",
      "http://cheersingapore.org/cas/2016/10/31/589/#respond\n",
      "http://cheersingapore.org/cas/wp-content/uploads/2017/06/National-Team-2018-Tryout-Information.doc\n",
      "http://cheersingapore.org/cas/category/uncategorized/\n",
      "http://cheersingapore.org/cas/wp-content/uploads/2013/07/CAS-Coaches-Code-of-Ethics-and-Conduct.pdf\n",
      "http://cheersingapore.org/cas/wp-content/uploads/2017/03/IMG_8496.jpg\n",
      "http://cheersingapore.org/cas/wp-content/uploads/2017/03/ICU-Judges-Course-2017-Registration-Form.xlsx\n",
      "http://cheersingapore.org/cas/wp-content/uploads/2017/01/CASNCC-2017-Rule-Book.pdf\n",
      "http://cheersingapore.org/cas/2016/10/31/589/\n",
      "http://cheersingapore.org/cas/2013/07/26/new-look-for-our-website/#respond\n",
      "http://cheersingapore.org/cas/wp-content/uploads/2016/10/IMG_5920.jpg\n",
      "http://cheersingapore.org/cas/2013/09/05/project-happy-feet/\n",
      "http://cheersingapore.org/cas/2016/10/07/584/#respond\n",
      "http://cheersingapore.org/cas/2017/06/22/national-team-201718-try-out/\n",
      "http://cheersingapore.org/cas/wp-content/uploads/2013/07/401133_10151452100769211_1661709466_n.jpg\n",
      "http://cheersingapore.org/cas/author/casadmin/page/2/\n",
      "http://cheersingapore.org/cas/2016/08/13/2016-asia-open-cheerleading-championship/#respond\n",
      "http://cheersingapore.org/cas/category/events/\n",
      "http://cheersingapore.org/cas/2017/03/08/international-cheer-union-icu-cheer-judges-course/\n",
      "http://cheersingapore.org/cas/wp-content/uploads/2013/07/Coaching-Pathway2.png\n",
      "http://cheersingapore.org/cas/2016/12/09/598/#respond\n",
      "http://cheersingapore.org/cas/wp-content/uploads/2013/09/5D3_0357.jpg\n",
      "http://cheersingapore.org/cas/national-team/national-team-2017/\n",
      "http://cheersingapore.org/cas/category/national-team/national-team-2016/\n",
      "http://cheersingapore.org/cas/2013/10/06/partner-stunt-progression-workshop-in-october/\n",
      "http://cheersingapore.org/cas/category/national-team/\n"
     ]
    },
    {
     "name": "stderr",
     "output_type": "stream",
     "text": [
      "Some characters could not be decoded, and were replaced with REPLACEMENT CHARACTER.\n",
      "Some characters could not be decoded, and were replaced with REPLACEMENT CHARACTER.\n"
     ]
    },
    {
     "ename": "KeyboardInterrupt",
     "evalue": "",
     "output_type": "error",
     "traceback": [
      "\u001b[1;31m---------------------------------------------------------------------------\u001b[0m",
      "\u001b[1;31mKeyboardInterrupt\u001b[0m                         Traceback (most recent call last)",
      "\u001b[1;32m<ipython-input-132-d2fcc1104aaa>\u001b[0m in \u001b[0;36m<module>\u001b[1;34m\u001b[0m\n\u001b[0;32m     27\u001b[0m     \u001b[1;31m# Iterate over each site\u001b[0m\u001b[1;33m\u001b[0m\u001b[1;33m\u001b[0m\u001b[1;33m\u001b[0m\u001b[0m\n\u001b[0;32m     28\u001b[0m     \u001b[1;32mfor\u001b[0m \u001b[0msite\u001b[0m \u001b[1;32min\u001b[0m \u001b[0mlinks_to_iter\u001b[0m\u001b[1;33m:\u001b[0m\u001b[1;33m\u001b[0m\u001b[1;33m\u001b[0m\u001b[0m\n\u001b[1;32m---> 29\u001b[1;33m         \u001b[0minternal\u001b[0m\u001b[1;33m,\u001b[0m \u001b[0mexternal\u001b[0m \u001b[1;33m=\u001b[0m \u001b[0mgetlinks\u001b[0m\u001b[1;33m(\u001b[0m\u001b[0msite\u001b[0m\u001b[1;33m,\u001b[0m \u001b[0msiteurl\u001b[0m\u001b[1;33m)\u001b[0m\u001b[1;33m\u001b[0m\u001b[1;33m\u001b[0m\u001b[0m\n\u001b[0m\u001b[0;32m     30\u001b[0m         \u001b[0mexternal_sites\u001b[0m \u001b[1;33m=\u001b[0m \u001b[0mexternal_sites\u001b[0m\u001b[1;33m|\u001b[0m\u001b[0mexternal\u001b[0m\u001b[1;33m\u001b[0m\u001b[1;33m\u001b[0m\u001b[0m\n\u001b[0;32m     31\u001b[0m \u001b[1;33m\u001b[0m\u001b[0m\n",
      "\u001b[1;32m<ipython-input-122-86659c6403f1>\u001b[0m in \u001b[0;36mgetlinks\u001b[1;34m(url, siteurl)\u001b[0m\n\u001b[0;32m      6\u001b[0m     \u001b[0mpage_link\u001b[0m \u001b[1;33m=\u001b[0m \u001b[0murl\u001b[0m\u001b[1;33m\u001b[0m\u001b[1;33m\u001b[0m\u001b[0m\n\u001b[0;32m      7\u001b[0m     \u001b[0mpage_response\u001b[0m \u001b[1;33m=\u001b[0m \u001b[0mrequests\u001b[0m\u001b[1;33m.\u001b[0m\u001b[0mget\u001b[0m\u001b[1;33m(\u001b[0m\u001b[0mpage_link\u001b[0m\u001b[1;33m,\u001b[0m \u001b[0mheaders\u001b[0m\u001b[1;33m=\u001b[0m\u001b[0mheaders\u001b[0m\u001b[1;33m,\u001b[0m \u001b[0mtimeout\u001b[0m\u001b[1;33m=\u001b[0m\u001b[1;36m5\u001b[0m\u001b[1;33m)\u001b[0m\u001b[1;33m\u001b[0m\u001b[1;33m\u001b[0m\u001b[0m\n\u001b[1;32m----> 8\u001b[1;33m     \u001b[0mpage_content\u001b[0m \u001b[1;33m=\u001b[0m \u001b[0mBeautifulSoup\u001b[0m\u001b[1;33m(\u001b[0m\u001b[0mpage_response\u001b[0m\u001b[1;33m.\u001b[0m\u001b[0mcontent\u001b[0m\u001b[1;33m,\u001b[0m \u001b[1;34m\"html.parser\"\u001b[0m\u001b[1;33m)\u001b[0m\u001b[1;33m\u001b[0m\u001b[1;33m\u001b[0m\u001b[0m\n\u001b[0m\u001b[0;32m      9\u001b[0m \u001b[1;33m\u001b[0m\u001b[0m\n\u001b[0;32m     10\u001b[0m     \u001b[1;31m# Create sets for internal and external links\u001b[0m\u001b[1;33m\u001b[0m\u001b[1;33m\u001b[0m\u001b[1;33m\u001b[0m\u001b[0m\n",
      "\u001b[1;32mC:\\ProgramData\\Anaconda3\\lib\\site-packages\\bs4\\__init__.py\u001b[0m in \u001b[0;36m__init__\u001b[1;34m(self, markup, features, builder, parse_only, from_encoding, exclude_encodings, **kwargs)\u001b[0m\n\u001b[0;32m    276\u001b[0m          \u001b[0mself\u001b[0m\u001b[1;33m.\u001b[0m\u001b[0mcontains_replacement_characters\u001b[0m\u001b[1;33m)\u001b[0m \u001b[1;32min\u001b[0m \u001b[1;33m(\u001b[0m\u001b[1;33m\u001b[0m\u001b[1;33m\u001b[0m\u001b[0m\n\u001b[0;32m    277\u001b[0m              self.builder.prepare_markup(\n\u001b[1;32m--> 278\u001b[1;33m                  markup, from_encoding, exclude_encodings=exclude_encodings)):\n\u001b[0m\u001b[0;32m    279\u001b[0m             \u001b[0mself\u001b[0m\u001b[1;33m.\u001b[0m\u001b[0mreset\u001b[0m\u001b[1;33m(\u001b[0m\u001b[1;33m)\u001b[0m\u001b[1;33m\u001b[0m\u001b[1;33m\u001b[0m\u001b[0m\n\u001b[0;32m    280\u001b[0m             \u001b[1;32mtry\u001b[0m\u001b[1;33m:\u001b[0m\u001b[1;33m\u001b[0m\u001b[1;33m\u001b[0m\u001b[0m\n",
      "\u001b[1;32mC:\\ProgramData\\Anaconda3\\lib\\site-packages\\bs4\\builder\\_htmlparser.py\u001b[0m in \u001b[0;36mprepare_markup\u001b[1;34m(self, markup, user_specified_encoding, document_declared_encoding, exclude_encodings)\u001b[0m\n\u001b[0;32m    235\u001b[0m         \u001b[0mtry_encodings\u001b[0m \u001b[1;33m=\u001b[0m \u001b[1;33m[\u001b[0m\u001b[0muser_specified_encoding\u001b[0m\u001b[1;33m,\u001b[0m \u001b[0mdocument_declared_encoding\u001b[0m\u001b[1;33m]\u001b[0m\u001b[1;33m\u001b[0m\u001b[1;33m\u001b[0m\u001b[0m\n\u001b[0;32m    236\u001b[0m         dammit = UnicodeDammit(markup, try_encodings, is_html=True,\n\u001b[1;32m--> 237\u001b[1;33m                                exclude_encodings=exclude_encodings)\n\u001b[0m\u001b[0;32m    238\u001b[0m         yield (dammit.markup, dammit.original_encoding,\n\u001b[0;32m    239\u001b[0m                \u001b[0mdammit\u001b[0m\u001b[1;33m.\u001b[0m\u001b[0mdeclared_html_encoding\u001b[0m\u001b[1;33m,\u001b[0m\u001b[1;33m\u001b[0m\u001b[1;33m\u001b[0m\u001b[0m\n",
      "\u001b[1;32mC:\\ProgramData\\Anaconda3\\lib\\site-packages\\bs4\\dammit.py\u001b[0m in \u001b[0;36m__init__\u001b[1;34m(self, markup, override_encodings, smart_quotes_to, is_html, exclude_encodings)\u001b[0m\n\u001b[0;32m    363\u001b[0m \u001b[1;33m\u001b[0m\u001b[0m\n\u001b[0;32m    364\u001b[0m         \u001b[0mu\u001b[0m \u001b[1;33m=\u001b[0m \u001b[1;32mNone\u001b[0m\u001b[1;33m\u001b[0m\u001b[1;33m\u001b[0m\u001b[0m\n\u001b[1;32m--> 365\u001b[1;33m         \u001b[1;32mfor\u001b[0m \u001b[0mencoding\u001b[0m \u001b[1;32min\u001b[0m \u001b[0mself\u001b[0m\u001b[1;33m.\u001b[0m\u001b[0mdetector\u001b[0m\u001b[1;33m.\u001b[0m\u001b[0mencodings\u001b[0m\u001b[1;33m:\u001b[0m\u001b[1;33m\u001b[0m\u001b[1;33m\u001b[0m\u001b[0m\n\u001b[0m\u001b[0;32m    366\u001b[0m             \u001b[0mmarkup\u001b[0m \u001b[1;33m=\u001b[0m \u001b[0mself\u001b[0m\u001b[1;33m.\u001b[0m\u001b[0mdetector\u001b[0m\u001b[1;33m.\u001b[0m\u001b[0mmarkup\u001b[0m\u001b[1;33m\u001b[0m\u001b[1;33m\u001b[0m\u001b[0m\n\u001b[0;32m    367\u001b[0m             \u001b[0mu\u001b[0m \u001b[1;33m=\u001b[0m \u001b[0mself\u001b[0m\u001b[1;33m.\u001b[0m\u001b[0m_convert_from\u001b[0m\u001b[1;33m(\u001b[0m\u001b[0mencoding\u001b[0m\u001b[1;33m)\u001b[0m\u001b[1;33m\u001b[0m\u001b[1;33m\u001b[0m\u001b[0m\n",
      "\u001b[1;32mC:\\ProgramData\\Anaconda3\\lib\\site-packages\\bs4\\dammit.py\u001b[0m in \u001b[0;36mencodings\u001b[1;34m(self)\u001b[0m\n\u001b[0;32m    261\u001b[0m         \u001b[1;31m# encoding.\u001b[0m\u001b[1;33m\u001b[0m\u001b[1;33m\u001b[0m\u001b[1;33m\u001b[0m\u001b[0m\n\u001b[0;32m    262\u001b[0m         \u001b[1;32mif\u001b[0m \u001b[0mself\u001b[0m\u001b[1;33m.\u001b[0m\u001b[0mchardet_encoding\u001b[0m \u001b[1;32mis\u001b[0m \u001b[1;32mNone\u001b[0m\u001b[1;33m:\u001b[0m\u001b[1;33m\u001b[0m\u001b[1;33m\u001b[0m\u001b[0m\n\u001b[1;32m--> 263\u001b[1;33m             \u001b[0mself\u001b[0m\u001b[1;33m.\u001b[0m\u001b[0mchardet_encoding\u001b[0m \u001b[1;33m=\u001b[0m \u001b[0mchardet_dammit\u001b[0m\u001b[1;33m(\u001b[0m\u001b[0mself\u001b[0m\u001b[1;33m.\u001b[0m\u001b[0mmarkup\u001b[0m\u001b[1;33m)\u001b[0m\u001b[1;33m\u001b[0m\u001b[1;33m\u001b[0m\u001b[0m\n\u001b[0m\u001b[0;32m    264\u001b[0m         \u001b[1;32mif\u001b[0m \u001b[0mself\u001b[0m\u001b[1;33m.\u001b[0m\u001b[0m_usable\u001b[0m\u001b[1;33m(\u001b[0m\u001b[0mself\u001b[0m\u001b[1;33m.\u001b[0m\u001b[0mchardet_encoding\u001b[0m\u001b[1;33m,\u001b[0m \u001b[0mtried\u001b[0m\u001b[1;33m)\u001b[0m\u001b[1;33m:\u001b[0m\u001b[1;33m\u001b[0m\u001b[1;33m\u001b[0m\u001b[0m\n\u001b[0;32m    265\u001b[0m             \u001b[1;32myield\u001b[0m \u001b[0mself\u001b[0m\u001b[1;33m.\u001b[0m\u001b[0mchardet_encoding\u001b[0m\u001b[1;33m\u001b[0m\u001b[1;33m\u001b[0m\u001b[0m\n",
      "\u001b[1;32mC:\\ProgramData\\Anaconda3\\lib\\site-packages\\bs4\\dammit.py\u001b[0m in \u001b[0;36mchardet_dammit\u001b[1;34m(s)\u001b[0m\n\u001b[0;32m     31\u001b[0m         \u001b[1;32mimport\u001b[0m \u001b[0mchardet\u001b[0m\u001b[1;33m\u001b[0m\u001b[1;33m\u001b[0m\u001b[0m\n\u001b[0;32m     32\u001b[0m         \u001b[1;32mdef\u001b[0m \u001b[0mchardet_dammit\u001b[0m\u001b[1;33m(\u001b[0m\u001b[0ms\u001b[0m\u001b[1;33m)\u001b[0m\u001b[1;33m:\u001b[0m\u001b[1;33m\u001b[0m\u001b[1;33m\u001b[0m\u001b[0m\n\u001b[1;32m---> 33\u001b[1;33m             \u001b[1;32mreturn\u001b[0m \u001b[0mchardet\u001b[0m\u001b[1;33m.\u001b[0m\u001b[0mdetect\u001b[0m\u001b[1;33m(\u001b[0m\u001b[0ms\u001b[0m\u001b[1;33m)\u001b[0m\u001b[1;33m[\u001b[0m\u001b[1;34m'encoding'\u001b[0m\u001b[1;33m]\u001b[0m\u001b[1;33m\u001b[0m\u001b[1;33m\u001b[0m\u001b[0m\n\u001b[0m\u001b[0;32m     34\u001b[0m         \u001b[1;31m#import chardet.constants\u001b[0m\u001b[1;33m\u001b[0m\u001b[1;33m\u001b[0m\u001b[1;33m\u001b[0m\u001b[0m\n\u001b[0;32m     35\u001b[0m         \u001b[1;31m#chardet.constants._debug = 1\u001b[0m\u001b[1;33m\u001b[0m\u001b[1;33m\u001b[0m\u001b[1;33m\u001b[0m\u001b[0m\n",
      "\u001b[1;32mC:\\ProgramData\\Anaconda3\\lib\\site-packages\\chardet\\__init__.py\u001b[0m in \u001b[0;36mdetect\u001b[1;34m(byte_str)\u001b[0m\n\u001b[0;32m     36\u001b[0m             \u001b[0mbyte_str\u001b[0m \u001b[1;33m=\u001b[0m \u001b[0mbytearray\u001b[0m\u001b[1;33m(\u001b[0m\u001b[0mbyte_str\u001b[0m\u001b[1;33m)\u001b[0m\u001b[1;33m\u001b[0m\u001b[1;33m\u001b[0m\u001b[0m\n\u001b[0;32m     37\u001b[0m     \u001b[0mdetector\u001b[0m \u001b[1;33m=\u001b[0m \u001b[0mUniversalDetector\u001b[0m\u001b[1;33m(\u001b[0m\u001b[1;33m)\u001b[0m\u001b[1;33m\u001b[0m\u001b[1;33m\u001b[0m\u001b[0m\n\u001b[1;32m---> 38\u001b[1;33m     \u001b[0mdetector\u001b[0m\u001b[1;33m.\u001b[0m\u001b[0mfeed\u001b[0m\u001b[1;33m(\u001b[0m\u001b[0mbyte_str\u001b[0m\u001b[1;33m)\u001b[0m\u001b[1;33m\u001b[0m\u001b[1;33m\u001b[0m\u001b[0m\n\u001b[0m\u001b[0;32m     39\u001b[0m     \u001b[1;32mreturn\u001b[0m \u001b[0mdetector\u001b[0m\u001b[1;33m.\u001b[0m\u001b[0mclose\u001b[0m\u001b[1;33m(\u001b[0m\u001b[1;33m)\u001b[0m\u001b[1;33m\u001b[0m\u001b[1;33m\u001b[0m\u001b[0m\n",
      "\u001b[1;32mC:\\ProgramData\\Anaconda3\\lib\\site-packages\\chardet\\universaldetector.py\u001b[0m in \u001b[0;36mfeed\u001b[1;34m(self, byte_str)\u001b[0m\n\u001b[0;32m    209\u001b[0m                 \u001b[0mself\u001b[0m\u001b[1;33m.\u001b[0m\u001b[0m_charset_probers\u001b[0m\u001b[1;33m.\u001b[0m\u001b[0mappend\u001b[0m\u001b[1;33m(\u001b[0m\u001b[0mLatin1Prober\u001b[0m\u001b[1;33m(\u001b[0m\u001b[1;33m)\u001b[0m\u001b[1;33m)\u001b[0m\u001b[1;33m\u001b[0m\u001b[1;33m\u001b[0m\u001b[0m\n\u001b[0;32m    210\u001b[0m             \u001b[1;32mfor\u001b[0m \u001b[0mprober\u001b[0m \u001b[1;32min\u001b[0m \u001b[0mself\u001b[0m\u001b[1;33m.\u001b[0m\u001b[0m_charset_probers\u001b[0m\u001b[1;33m:\u001b[0m\u001b[1;33m\u001b[0m\u001b[1;33m\u001b[0m\u001b[0m\n\u001b[1;32m--> 211\u001b[1;33m                 \u001b[1;32mif\u001b[0m \u001b[0mprober\u001b[0m\u001b[1;33m.\u001b[0m\u001b[0mfeed\u001b[0m\u001b[1;33m(\u001b[0m\u001b[0mbyte_str\u001b[0m\u001b[1;33m)\u001b[0m \u001b[1;33m==\u001b[0m \u001b[0mProbingState\u001b[0m\u001b[1;33m.\u001b[0m\u001b[0mFOUND_IT\u001b[0m\u001b[1;33m:\u001b[0m\u001b[1;33m\u001b[0m\u001b[1;33m\u001b[0m\u001b[0m\n\u001b[0m\u001b[0;32m    212\u001b[0m                     self.result = {'encoding': prober.charset_name,\n\u001b[0;32m    213\u001b[0m                                    \u001b[1;34m'confidence'\u001b[0m\u001b[1;33m:\u001b[0m \u001b[0mprober\u001b[0m\u001b[1;33m.\u001b[0m\u001b[0mget_confidence\u001b[0m\u001b[1;33m(\u001b[0m\u001b[1;33m)\u001b[0m\u001b[1;33m,\u001b[0m\u001b[1;33m\u001b[0m\u001b[1;33m\u001b[0m\u001b[0m\n",
      "\u001b[1;32mC:\\ProgramData\\Anaconda3\\lib\\site-packages\\chardet\\charsetgroupprober.py\u001b[0m in \u001b[0;36mfeed\u001b[1;34m(self, byte_str)\u001b[0m\n\u001b[0;32m     69\u001b[0m             \u001b[1;32mif\u001b[0m \u001b[1;32mnot\u001b[0m \u001b[0mprober\u001b[0m\u001b[1;33m.\u001b[0m\u001b[0mactive\u001b[0m\u001b[1;33m:\u001b[0m\u001b[1;33m\u001b[0m\u001b[1;33m\u001b[0m\u001b[0m\n\u001b[0;32m     70\u001b[0m                 \u001b[1;32mcontinue\u001b[0m\u001b[1;33m\u001b[0m\u001b[1;33m\u001b[0m\u001b[0m\n\u001b[1;32m---> 71\u001b[1;33m             \u001b[0mstate\u001b[0m \u001b[1;33m=\u001b[0m \u001b[0mprober\u001b[0m\u001b[1;33m.\u001b[0m\u001b[0mfeed\u001b[0m\u001b[1;33m(\u001b[0m\u001b[0mbyte_str\u001b[0m\u001b[1;33m)\u001b[0m\u001b[1;33m\u001b[0m\u001b[1;33m\u001b[0m\u001b[0m\n\u001b[0m\u001b[0;32m     72\u001b[0m             \u001b[1;32mif\u001b[0m \u001b[1;32mnot\u001b[0m \u001b[0mstate\u001b[0m\u001b[1;33m:\u001b[0m\u001b[1;33m\u001b[0m\u001b[1;33m\u001b[0m\u001b[0m\n\u001b[0;32m     73\u001b[0m                 \u001b[1;32mcontinue\u001b[0m\u001b[1;33m\u001b[0m\u001b[1;33m\u001b[0m\u001b[0m\n",
      "\u001b[1;32mC:\\ProgramData\\Anaconda3\\lib\\site-packages\\chardet\\sbcharsetprober.py\u001b[0m in \u001b[0;36mfeed\u001b[1;34m(self, byte_str)\u001b[0m\n\u001b[0;32m     91\u001b[0m             \u001b[1;31m#      _total_char purposes.\u001b[0m\u001b[1;33m\u001b[0m\u001b[1;33m\u001b[0m\u001b[1;33m\u001b[0m\u001b[0m\n\u001b[0;32m     92\u001b[0m             \u001b[1;32mif\u001b[0m \u001b[0morder\u001b[0m \u001b[1;33m<\u001b[0m \u001b[0mCharacterCategory\u001b[0m\u001b[1;33m.\u001b[0m\u001b[0mCONTROL\u001b[0m\u001b[1;33m:\u001b[0m\u001b[1;33m\u001b[0m\u001b[1;33m\u001b[0m\u001b[0m\n\u001b[1;32m---> 93\u001b[1;33m                 \u001b[0mself\u001b[0m\u001b[1;33m.\u001b[0m\u001b[0m_total_char\u001b[0m \u001b[1;33m+=\u001b[0m \u001b[1;36m1\u001b[0m\u001b[1;33m\u001b[0m\u001b[1;33m\u001b[0m\u001b[0m\n\u001b[0m\u001b[0;32m     94\u001b[0m             \u001b[1;32mif\u001b[0m \u001b[0morder\u001b[0m \u001b[1;33m<\u001b[0m \u001b[0mself\u001b[0m\u001b[1;33m.\u001b[0m\u001b[0mSAMPLE_SIZE\u001b[0m\u001b[1;33m:\u001b[0m\u001b[1;33m\u001b[0m\u001b[1;33m\u001b[0m\u001b[0m\n\u001b[0;32m     95\u001b[0m                 \u001b[0mself\u001b[0m\u001b[1;33m.\u001b[0m\u001b[0m_freq_char\u001b[0m \u001b[1;33m+=\u001b[0m \u001b[1;36m1\u001b[0m\u001b[1;33m\u001b[0m\u001b[1;33m\u001b[0m\u001b[0m\n",
      "\u001b[1;31mKeyboardInterrupt\u001b[0m: "
     ]
    }
   ],
   "source": [
    "# Iterate through siteurl, returning all internal and external links\n",
    "# All links are check for duplicates within and against the sets\n",
    "# New internal links are grouped and all internal links will be\n",
    "# added to the next iteration\n",
    "\n",
    "# Initialise links to iterate over for next iteration\n",
    "links_to_iter = set([siteurl])\n",
    "\n",
    "# Start iteration\n",
    "num_iter = 1\n",
    "set_iter = 5\n",
    "has_new_links = True\n",
    "while has_new_links and num_iter <= set_iter:\n",
    "    \n",
    "    # Initialise set for new links\n",
    "    new_links_group = set([])\n",
    "    print('Iteration:', num_iter)\n",
    "    \n",
    "    # Iterate over each site\n",
    "    for site in links_to_iter:\n",
    "        internal, external = getlinks(site, siteurl)\n",
    "        external_sites = external_sites|external\n",
    "        \n",
    "        # Skip to next site if no internal links\n",
    "        if len(internal) == 0:\n",
    "            continue\n",
    "        # Check for new internal links and group them up\n",
    "        new_links = internal.difference(sites)\n",
    "        new_links_group = new_links_group|new_links\n",
    "    \n",
    "    # End the iteration process if no new links are found\n",
    "    if len(new_links_group) == 0:\n",
    "        has_new_links = False\n",
    "        continue\n",
    "        \n",
    "    # Add new internal links found in this iteration\n",
    "    # To the next iteration\n",
    "    links_to_iter = new_links_group\n",
    "    # To the internal sites set\n",
    "    sites = sites|new_links_group\n",
    "    \n",
    "    num_iter = num_iter + 1\n",
    "    \n",
    "    # Debugging, check new added links\n",
    "    for link in new_links_group:\n",
    "        print(link)"
   ]
  },
  {
   "cell_type": "code",
   "execution_count": null,
   "metadata": {},
   "outputs": [],
   "source": [
    "for site in sites:\n",
    "    print(site)"
   ]
  },
  {
   "cell_type": "code",
   "execution_count": null,
   "metadata": {},
   "outputs": [],
   "source": [
    "for site in external_sites:\n",
    "    print(site)"
   ]
  },
  {
   "cell_type": "code",
   "execution_count": null,
   "metadata": {},
   "outputs": [],
   "source": []
  }
 ],
 "metadata": {
  "kernelspec": {
   "display_name": "Python 3",
   "language": "python",
   "name": "python3"
  },
  "language_info": {
   "codemirror_mode": {
    "name": "ipython",
    "version": 3
   },
   "file_extension": ".py",
   "mimetype": "text/x-python",
   "name": "python",
   "nbconvert_exporter": "python",
   "pygments_lexer": "ipython3",
   "version": "3.7.3"
  }
 },
 "nbformat": 4,
 "nbformat_minor": 2
}
