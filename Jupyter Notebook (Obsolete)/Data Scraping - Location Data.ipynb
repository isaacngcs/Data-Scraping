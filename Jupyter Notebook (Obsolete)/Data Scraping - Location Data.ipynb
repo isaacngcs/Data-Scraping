{
 "cells": [
  {
   "cell_type": "code",
   "execution_count": 2,
   "metadata": {},
   "outputs": [],
   "source": [
    "# Add User-Agent parameter\n",
    "headers = {'User-Agent': 'Mozilla/5.0 (Macintosh; Intel Mac OS X 10_13_6) AppleWebKit/537.36 (KHTML, like Gecko) Chrome/70.0.3538.77 Safari/537.36'}"
   ]
  },
  {
   "cell_type": "code",
   "execution_count": 9,
   "metadata": {},
   "outputs": [
    {
     "ename": "ModuleNotFoundError",
     "evalue": "No module named 'ScrapeProject'",
     "output_type": "error",
     "traceback": [
      "\u001b[1;31m---------------------------------------------------------------------------\u001b[0m",
      "\u001b[1;31mModuleNotFoundError\u001b[0m                       Traceback (most recent call last)",
      "\u001b[1;32m<ipython-input-9-020bf818a5a5>\u001b[0m in \u001b[0;36m<module>\u001b[1;34m\u001b[0m\n\u001b[1;32m----> 1\u001b[1;33m \u001b[1;32mimport\u001b[0m \u001b[0mScrapeProject\u001b[0m\u001b[1;33m\u001b[0m\u001b[1;33m\u001b[0m\u001b[0m\n\u001b[0m",
      "\u001b[1;31mModuleNotFoundError\u001b[0m: No module named 'ScrapeProject'"
     ]
    }
   ],
   "source": [
    "import ScrapeProject"
   ]
  },
  {
   "cell_type": "code",
   "execution_count": 3,
   "metadata": {},
   "outputs": [],
   "source": [
    "# Find structure of website\n",
    "siteurl = 'https://noc.com.sg/foodking/'"
   ]
  },
  {
   "cell_type": "code",
   "execution_count": 4,
   "metadata": {},
   "outputs": [],
   "source": [
    "# Get location data from webpage\n",
    "# Retrieve all links from a given webpage\n",
    "# Separate links into internal and external links\n",
    "def getdata(url):\n",
    "    \n",
    "    # Retrieve content from url\n",
    "    page_link = url\n",
    "    page_response = requests.get(page_link, headers=headers, timeout=5)\n",
    "    page_content = BeautifulSoup(page_response.content, \"html.parser\",\n",
    "                                 from_encoding=\"iso-8859-1\")\n",
    "    \n",
    "    # Create sets for internal and external links\n",
    "    internal = set([])\n",
    "    external = set([])\n",
    "    \n",
    "    # Retrieve links and sorts them into internal and external links\n",
    "    links = set([])\n",
    "    for unsorted_link in page_content.findAll(\n",
    "        'a', attrs={'href': re.compile(\"^http://\")}):\n",
    "        link = unsorted_link.get('href')\n",
    "        if link.startswith(siteurl):\n",
    "            internal.add(link)\n",
    "        else:\n",
    "            external.add(link)\n",
    "            \n",
    "    return internal, external"
   ]
  },
  {
   "cell_type": "markdown",
   "metadata": {},
   "source": [
    "Structure to extract page links:\n",
    "\"nav-previous\" ... a href=url\n",
    "\"nav-next\" ... a href=url\n",
    "\n",
    "no nav-previous for first url\n",
    "no nav-next for last url"
   ]
  },
  {
   "cell_type": "markdown",
   "metadata": {},
   "source": [
    "Structure for data:\n",
    "\n",
    "eg1...\n",
    "p Ratings: 3 Stars, Food-King Good!\n",
    "\n",
    "p SAN LAKSA STEAMBOAT\n",
    "\n",
    "p 404 Telok Blangah Road, Singapore 098840\n",
    "\n",
    "p Mon – Sun, 11AM to 2.30PM, 4.30PM to 11PM\n",
    "\n",
    "\n",
    "\n",
    "p And here’s our Top 3 Picks of the Day!\n",
    "\n",
    "p Nina’s pick – San Laksa Steamboat\n",
    "\n",
    "p Sylvia’s pick –  San Laksa Steamboat\n",
    "\n",
    "p Aiken’s pick – San Laksa Steamboat\n",
    "\n",
    "eg2...\n",
    "And here’s our Top Picks of the Day!\n",
    "\n",
    "Sylvia’s pick – Australian Mango Sorbet\n",
    "\n",
    "Ryan’s pick – Dark Chocolate\n",
    "\n",
    "Aiken’s pick – Boysenberry, Acai and Coconut\n",
    "\n",
    "Dee’s pick – Summer Berries Sorbet\n",
    "\n",
    "*Use regex on 'Top Picks of the Day'\n",
    "\n",
    "eg3...\n",
    "Ratings: 3 Stars, Food-King Good!!\n",
    "\n",
    "ONE FABER GROUP\n",
    "\n"
   ]
  },
  {
   "cell_type": "code",
   "execution_count": null,
   "metadata": {},
   "outputs": [],
   "source": [
    "# Saving location data to csv file"
   ]
  }
 ],
 "metadata": {
  "kernelspec": {
   "display_name": "Python 3",
   "language": "python",
   "name": "python3"
  },
  "language_info": {
   "codemirror_mode": {
    "name": "ipython",
    "version": 3
   },
   "file_extension": ".py",
   "mimetype": "text/x-python",
   "name": "python",
   "nbconvert_exporter": "python",
   "pygments_lexer": "ipython3",
   "version": "3.7.3"
  }
 },
 "nbformat": 4,
 "nbformat_minor": 2
}
